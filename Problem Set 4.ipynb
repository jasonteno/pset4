{
 "cells": [
  {
   "cell_type": "markdown",
   "metadata": {
    "colab_type": "text",
    "id": "view-in-github"
   },
   "source": [
    "<a href=\"https://colab.research.google.com/github/johntango/PS2HouseDataExercise/blob/master/Predict_House_Prices_Part_1.ipynb\" target=\"_parent\"><img src=\"https://colab.research.google.com/assets/colab-badge.svg\" alt=\"Open In Colab\"/></a>"
   ]
  },
  {
   "cell_type": "code",
   "execution_count": 1,
   "metadata": {
    "id": "Oh_W51UKiVyj"
   },
   "outputs": [],
   "source": [
    "# House Sales Data, ETL, Build Predictive Model(linear regression), \n",
    "# Assess Model, Deploy Model   'houseSmallData.csv' and \"data_description.txt\"\n",
    "\n",
    "import pandas as pd\n",
    "import numpy as np\n",
    "import matplotlib.pyplot as plt"
   ]
  },
  {
   "cell_type": "markdown",
   "metadata": {
    "id": "w0tNzE2GiVym"
   },
   "source": [
    "### data_description.txt\n",
    "SalePrice — the property’s sale price in dollars. This is the target variable that you’re trying to predict.  \n",
    "MSSubClass — The building class  \n",
    "MSZoning — The general zoning classification \n",
    "MasVnrArea - Masonary Veneer Area in sq ft\n",
    "LotFrontage — Linear feet of street connected to property  \n",
    "LotArea — Lot size in square feet  \n",
    "Street — Type of road access  \n",
    "Alley — Type of alley access  \n",
    "LotShape — General shape of property  \n",
    "LandContour — Flatness of the property  \n",
    "Utilities — Type of utilities available  \n",
    "LotConfig — Lot configuration  "
   ]
  },
  {
   "cell_type": "markdown",
   "metadata": {
    "id": "bHK6tRf3iVyn"
   },
   "source": [
    "$$Y = X_{1}\\beta_{1} + X_{2}\\beta_{2} + X_{3}\\beta_{3}...$$"
   ]
  },
  {
   "cell_type": "code",
   "execution_count": 6,
   "metadata": {
    "colab": {
     "base_uri": "https://localhost:8080/",
     "height": 300
    },
    "id": "5bYSMt7FiVyo",
    "outputId": "ca0a3a5d-5df5-4347-f60e-0c6063ab67f8"
   },
   "outputs": [
    {
     "data": {
      "text/html": [
       "<div>\n",
       "<style scoped>\n",
       "    .dataframe tbody tr th:only-of-type {\n",
       "        vertical-align: middle;\n",
       "    }\n",
       "\n",
       "    .dataframe tbody tr th {\n",
       "        vertical-align: top;\n",
       "    }\n",
       "\n",
       "    .dataframe thead th {\n",
       "        text-align: right;\n",
       "    }\n",
       "</style>\n",
       "<table border=\"1\" class=\"dataframe\">\n",
       "  <thead>\n",
       "    <tr style=\"text-align: right;\">\n",
       "      <th></th>\n",
       "      <th>Id</th>\n",
       "      <th>MSSubClass</th>\n",
       "      <th>MSZoning</th>\n",
       "      <th>LotFrontage</th>\n",
       "      <th>LotArea</th>\n",
       "      <th>Street</th>\n",
       "      <th>Alley</th>\n",
       "      <th>LotShape</th>\n",
       "      <th>LandContour</th>\n",
       "      <th>Utilities</th>\n",
       "      <th>...</th>\n",
       "      <th>PoolArea</th>\n",
       "      <th>PoolQC</th>\n",
       "      <th>Fence</th>\n",
       "      <th>MiscFeature</th>\n",
       "      <th>MiscVal</th>\n",
       "      <th>MoSold</th>\n",
       "      <th>YrSold</th>\n",
       "      <th>SaleType</th>\n",
       "      <th>SaleCondition</th>\n",
       "      <th>SalePrice</th>\n",
       "    </tr>\n",
       "  </thead>\n",
       "  <tbody>\n",
       "    <tr>\n",
       "      <th>0</th>\n",
       "      <td>1</td>\n",
       "      <td>60</td>\n",
       "      <td>RL</td>\n",
       "      <td>65.0</td>\n",
       "      <td>8450</td>\n",
       "      <td>Pave</td>\n",
       "      <td>NaN</td>\n",
       "      <td>Reg</td>\n",
       "      <td>Lvl</td>\n",
       "      <td>AllPub</td>\n",
       "      <td>...</td>\n",
       "      <td>0</td>\n",
       "      <td>NaN</td>\n",
       "      <td>NaN</td>\n",
       "      <td>NaN</td>\n",
       "      <td>0</td>\n",
       "      <td>2</td>\n",
       "      <td>2008</td>\n",
       "      <td>WD</td>\n",
       "      <td>Normal</td>\n",
       "      <td>208500</td>\n",
       "    </tr>\n",
       "    <tr>\n",
       "      <th>1</th>\n",
       "      <td>2</td>\n",
       "      <td>20</td>\n",
       "      <td>RL</td>\n",
       "      <td>80.0</td>\n",
       "      <td>9600</td>\n",
       "      <td>Pave</td>\n",
       "      <td>NaN</td>\n",
       "      <td>Reg</td>\n",
       "      <td>Lvl</td>\n",
       "      <td>AllPub</td>\n",
       "      <td>...</td>\n",
       "      <td>0</td>\n",
       "      <td>NaN</td>\n",
       "      <td>NaN</td>\n",
       "      <td>NaN</td>\n",
       "      <td>0</td>\n",
       "      <td>5</td>\n",
       "      <td>2007</td>\n",
       "      <td>WD</td>\n",
       "      <td>Normal</td>\n",
       "      <td>181500</td>\n",
       "    </tr>\n",
       "    <tr>\n",
       "      <th>2</th>\n",
       "      <td>3</td>\n",
       "      <td>60</td>\n",
       "      <td>RL</td>\n",
       "      <td>68.0</td>\n",
       "      <td>11250</td>\n",
       "      <td>Pave</td>\n",
       "      <td>NaN</td>\n",
       "      <td>IR1</td>\n",
       "      <td>Lvl</td>\n",
       "      <td>AllPub</td>\n",
       "      <td>...</td>\n",
       "      <td>0</td>\n",
       "      <td>NaN</td>\n",
       "      <td>NaN</td>\n",
       "      <td>NaN</td>\n",
       "      <td>0</td>\n",
       "      <td>9</td>\n",
       "      <td>2008</td>\n",
       "      <td>WD</td>\n",
       "      <td>Normal</td>\n",
       "      <td>223500</td>\n",
       "    </tr>\n",
       "    <tr>\n",
       "      <th>3</th>\n",
       "      <td>4</td>\n",
       "      <td>70</td>\n",
       "      <td>RL</td>\n",
       "      <td>60.0</td>\n",
       "      <td>9550</td>\n",
       "      <td>Pave</td>\n",
       "      <td>NaN</td>\n",
       "      <td>IR1</td>\n",
       "      <td>Lvl</td>\n",
       "      <td>AllPub</td>\n",
       "      <td>...</td>\n",
       "      <td>0</td>\n",
       "      <td>NaN</td>\n",
       "      <td>NaN</td>\n",
       "      <td>NaN</td>\n",
       "      <td>0</td>\n",
       "      <td>2</td>\n",
       "      <td>2006</td>\n",
       "      <td>WD</td>\n",
       "      <td>Abnorml</td>\n",
       "      <td>140000</td>\n",
       "    </tr>\n",
       "    <tr>\n",
       "      <th>4</th>\n",
       "      <td>5</td>\n",
       "      <td>60</td>\n",
       "      <td>RL</td>\n",
       "      <td>84.0</td>\n",
       "      <td>14260</td>\n",
       "      <td>Pave</td>\n",
       "      <td>NaN</td>\n",
       "      <td>IR1</td>\n",
       "      <td>Lvl</td>\n",
       "      <td>AllPub</td>\n",
       "      <td>...</td>\n",
       "      <td>0</td>\n",
       "      <td>NaN</td>\n",
       "      <td>NaN</td>\n",
       "      <td>NaN</td>\n",
       "      <td>0</td>\n",
       "      <td>12</td>\n",
       "      <td>2008</td>\n",
       "      <td>WD</td>\n",
       "      <td>Normal</td>\n",
       "      <td>250000</td>\n",
       "    </tr>\n",
       "  </tbody>\n",
       "</table>\n",
       "<p>5 rows × 81 columns</p>\n",
       "</div>"
      ],
      "text/plain": [
       "   Id  MSSubClass MSZoning  LotFrontage  LotArea Street Alley LotShape  \\\n",
       "0   1          60       RL         65.0     8450   Pave   NaN      Reg   \n",
       "1   2          20       RL         80.0     9600   Pave   NaN      Reg   \n",
       "2   3          60       RL         68.0    11250   Pave   NaN      IR1   \n",
       "3   4          70       RL         60.0     9550   Pave   NaN      IR1   \n",
       "4   5          60       RL         84.0    14260   Pave   NaN      IR1   \n",
       "\n",
       "  LandContour Utilities  ... PoolArea PoolQC Fence MiscFeature MiscVal MoSold  \\\n",
       "0         Lvl    AllPub  ...        0    NaN   NaN         NaN       0      2   \n",
       "1         Lvl    AllPub  ...        0    NaN   NaN         NaN       0      5   \n",
       "2         Lvl    AllPub  ...        0    NaN   NaN         NaN       0      9   \n",
       "3         Lvl    AllPub  ...        0    NaN   NaN         NaN       0      2   \n",
       "4         Lvl    AllPub  ...        0    NaN   NaN         NaN       0     12   \n",
       "\n",
       "  YrSold  SaleType  SaleCondition  SalePrice  \n",
       "0   2008        WD         Normal     208500  \n",
       "1   2007        WD         Normal     181500  \n",
       "2   2008        WD         Normal     223500  \n",
       "3   2006        WD        Abnorml     140000  \n",
       "4   2008        WD         Normal     250000  \n",
       "\n",
       "[5 rows x 81 columns]"
      ]
     },
     "execution_count": 6,
     "metadata": {},
     "output_type": "execute_result"
    }
   ],
   "source": [
    "data = pd.read_csv('https://raw.githubusercontent.com/jasonteno/pset4/main/train.csv')\n",
    "data.shape\n",
    "train = data.iloc[:,:]\n",
    "\n",
    "train.to_json('housedata.json')\n",
    "train.head()"
   ]
  },
  {
   "cell_type": "code",
   "execution_count": 7,
   "metadata": {},
   "outputs": [
    {
     "data": {
      "text/plain": [
       "(1460, 81)"
      ]
     },
     "execution_count": 7,
     "metadata": {},
     "output_type": "execute_result"
    }
   ],
   "source": [
    "train.shape"
   ]
  },
  {
   "cell_type": "markdown",
   "metadata": {
    "id": "aO6mI5FNi3ou"
   },
   "source": [
    "# New Section"
   ]
  },
  {
   "cell_type": "code",
   "execution_count": 8,
   "metadata": {
    "colab": {
     "base_uri": "https://localhost:8080/"
    },
    "id": "gnhZPn2piVyo",
    "outputId": "4ef41d35-e348-4547-b23d-55157bf5ebc4"
   },
   "outputs": [
    {
     "data": {
      "text/plain": [
       "0       208500\n",
       "1       181500\n",
       "2       223500\n",
       "3       140000\n",
       "4       250000\n",
       "         ...  \n",
       "1455    175000\n",
       "1456    210000\n",
       "1457    266500\n",
       "1458    142125\n",
       "1459    147500\n",
       "Name: SalePrice, Length: 1460, dtype: int64"
      ]
     },
     "execution_count": 8,
     "metadata": {},
     "output_type": "execute_result"
    }
   ],
   "source": [
    "# investigate Sale Price\n",
    "train['SalePrice']"
   ]
  },
  {
   "cell_type": "code",
   "execution_count": 9,
   "metadata": {
    "colab": {
     "base_uri": "https://localhost:8080/",
     "height": 334
    },
    "id": "YA1EAz3WiVyp",
    "outputId": "67d2b5e8-e6c0-4820-9e78-dc872461e66a"
   },
   "outputs": [
    {
     "data": {
      "text/plain": [
       "(array([148., 723., 373., 135.,  51.,  19.,   4.,   3.,   2.,   2.]),\n",
       " array([ 34900., 106910., 178920., 250930., 322940., 394950., 466960.,\n",
       "        538970., 610980., 682990., 755000.]),\n",
       " <BarContainer object of 10 artists>)"
      ]
     },
     "execution_count": 9,
     "metadata": {},
     "output_type": "execute_result"
    },
    {
     "data": {
      "image/png": "[encoded data removed]",
      "text/plain": [
       "<Figure size 640x480 with 1 Axes>"
      ]
     },
     "metadata": {},
     "output_type": "display_data"
    }
   ],
   "source": [
    "# plot hist\n",
    "plt.hist(train['SalePrice'])"
   ]
  },
  {
   "cell_type": "code",
   "execution_count": 10,
   "metadata": {
    "colab": {
     "base_uri": "https://localhost:8080/"
    },
    "id": "hXKsSD6qiVyq",
    "outputId": "afd73ed7-a0fe-4e42-81b7-8541c7306794"
   },
   "outputs": [
    {
     "data": {
      "text/plain": [
       "(1460, 38)"
      ]
     },
     "execution_count": 10,
     "metadata": {},
     "output_type": "execute_result"
    }
   ],
   "source": [
    "# select numeric columns\n",
    "# calculate correlation factor\n",
    "numeric = train.select_dtypes(include=[np.number])\n",
    "numeric.shape"
   ]
  },
  {
   "cell_type": "code",
   "execution_count": 18,
   "metadata": {
    "colab": {
     "base_uri": "https://localhost:8080/"
    },
    "id": "2eufJ8DCiVyq",
    "outputId": "f7aeb1c0-a7a0-4e35-9a67-86713d5825d0"
   },
   "outputs": [
    {
     "data": {
      "text/plain": [
       "SalePrice       1.000000\n",
       "OverallQual     0.790982\n",
       "GrLivArea       0.708624\n",
       "GarageCars      0.640409\n",
       "GarageArea      0.623431\n",
       "TotalBsmtSF     0.613581\n",
       "1stFlrSF        0.605852\n",
       "FullBath        0.560664\n",
       "TotRmsAbvGrd    0.533723\n",
       "Name: SalePrice, dtype: float64"
      ]
     },
     "execution_count": 18,
     "metadata": {},
     "output_type": "execute_result"
    }
   ],
   "source": [
    "corr = numeric.corr()\n",
    "cols = corr['SalePrice'].sort_values(ascending=False)[0:9]\n",
    "cols"
   ]
  },
  {
   "cell_type": "code",
   "execution_count": 21,
   "metadata": {},
   "outputs": [
    {
     "data": {
      "text/plain": [
       "Index(['SalePrice', 'OverallQual', 'GrLivArea', 'GarageCars', 'GarageArea',\n",
       "       'TotalBsmtSF'],\n",
       "      dtype='object')"
      ]
     },
     "execution_count": 21,
     "metadata": {},
     "output_type": "execute_result"
    }
   ],
   "source": [
    "corr = numeric.corr()\n",
    "cols = corr['SalePrice'].sort_values(ascending=False)[0:6].index\n",
    "cols"
   ]
  },
  {
   "cell_type": "code",
   "execution_count": 22,
   "metadata": {
    "colab": {
     "base_uri": "https://localhost:8080/",
     "height": 677
    },
    "id": "JT9fF7QwiVyr",
    "outputId": "7e7e1d6a-3dab-4a4f-bc60-f297a63065d4"
   },
   "outputs": [
    {
     "data": {
      "text/html": [
       "<div>\n",
       "<style scoped>\n",
       "    .dataframe tbody tr th:only-of-type {\n",
       "        vertical-align: middle;\n",
       "    }\n",
       "\n",
       "    .dataframe tbody tr th {\n",
       "        vertical-align: top;\n",
       "    }\n",
       "\n",
       "    .dataframe thead th {\n",
       "        text-align: right;\n",
       "    }\n",
       "</style>\n",
       "<table border=\"1\" class=\"dataframe\">\n",
       "  <thead>\n",
       "    <tr style=\"text-align: right;\">\n",
       "      <th></th>\n",
       "      <th>OverallQual</th>\n",
       "      <th>GrLivArea</th>\n",
       "      <th>GarageCars</th>\n",
       "      <th>GarageArea</th>\n",
       "      <th>TotalBsmtSF</th>\n",
       "    </tr>\n",
       "  </thead>\n",
       "  <tbody>\n",
       "    <tr>\n",
       "      <th>0</th>\n",
       "      <td>7</td>\n",
       "      <td>1710</td>\n",
       "      <td>2</td>\n",
       "      <td>548</td>\n",
       "      <td>856</td>\n",
       "    </tr>\n",
       "    <tr>\n",
       "      <th>1</th>\n",
       "      <td>6</td>\n",
       "      <td>1262</td>\n",
       "      <td>2</td>\n",
       "      <td>460</td>\n",
       "      <td>1262</td>\n",
       "    </tr>\n",
       "    <tr>\n",
       "      <th>2</th>\n",
       "      <td>7</td>\n",
       "      <td>1786</td>\n",
       "      <td>2</td>\n",
       "      <td>608</td>\n",
       "      <td>920</td>\n",
       "    </tr>\n",
       "    <tr>\n",
       "      <th>3</th>\n",
       "      <td>7</td>\n",
       "      <td>1717</td>\n",
       "      <td>3</td>\n",
       "      <td>642</td>\n",
       "      <td>756</td>\n",
       "    </tr>\n",
       "    <tr>\n",
       "      <th>4</th>\n",
       "      <td>8</td>\n",
       "      <td>2198</td>\n",
       "      <td>3</td>\n",
       "      <td>836</td>\n",
       "      <td>1145</td>\n",
       "    </tr>\n",
       "    <tr>\n",
       "      <th>...</th>\n",
       "      <td>...</td>\n",
       "      <td>...</td>\n",
       "      <td>...</td>\n",
       "      <td>...</td>\n",
       "      <td>...</td>\n",
       "    </tr>\n",
       "    <tr>\n",
       "      <th>1455</th>\n",
       "      <td>6</td>\n",
       "      <td>1647</td>\n",
       "      <td>2</td>\n",
       "      <td>460</td>\n",
       "      <td>953</td>\n",
       "    </tr>\n",
       "    <tr>\n",
       "      <th>1456</th>\n",
       "      <td>6</td>\n",
       "      <td>2073</td>\n",
       "      <td>2</td>\n",
       "      <td>500</td>\n",
       "      <td>1542</td>\n",
       "    </tr>\n",
       "    <tr>\n",
       "      <th>1457</th>\n",
       "      <td>7</td>\n",
       "      <td>2340</td>\n",
       "      <td>1</td>\n",
       "      <td>252</td>\n",
       "      <td>1152</td>\n",
       "    </tr>\n",
       "    <tr>\n",
       "      <th>1458</th>\n",
       "      <td>5</td>\n",
       "      <td>1078</td>\n",
       "      <td>1</td>\n",
       "      <td>240</td>\n",
       "      <td>1078</td>\n",
       "    </tr>\n",
       "    <tr>\n",
       "      <th>1459</th>\n",
       "      <td>5</td>\n",
       "      <td>1256</td>\n",
       "      <td>1</td>\n",
       "      <td>276</td>\n",
       "      <td>1256</td>\n",
       "    </tr>\n",
       "  </tbody>\n",
       "</table>\n",
       "<p>1460 rows × 5 columns</p>\n",
       "</div>"
      ],
      "text/plain": [
       "      OverallQual  GrLivArea  GarageCars  GarageArea  TotalBsmtSF\n",
       "0               7       1710           2         548          856\n",
       "1               6       1262           2         460         1262\n",
       "2               7       1786           2         608          920\n",
       "3               7       1717           3         642          756\n",
       "4               8       2198           3         836         1145\n",
       "...           ...        ...         ...         ...          ...\n",
       "1455            6       1647           2         460          953\n",
       "1456            6       2073           2         500         1542\n",
       "1457            7       2340           1         252         1152\n",
       "1458            5       1078           1         240         1078\n",
       "1459            5       1256           1         276         1256\n",
       "\n",
       "[1460 rows x 5 columns]"
      ]
     },
     "execution_count": 22,
     "metadata": {},
     "output_type": "execute_result"
    }
   ],
   "source": [
    "# pick out X cols and Y = SalePricee\n",
    "X = train[cols]\n",
    "Y = train['SalePrice']\n",
    "X = X.drop(['SalePrice'], axis = 1)\n",
    "X"
   ]
  },
  {
   "cell_type": "code",
   "execution_count": 23,
   "metadata": {
    "id": "468F5oY9iVyr"
   },
   "outputs": [],
   "source": [
    "# buld Linear Regression Model\n",
    "from sklearn import linear_model\n",
    "lr = linear_model.LinearRegression()\n",
    "model = lr.fit(X, Y)\n",
    "predictions = model.predict(X)"
   ]
  },
  {
   "cell_type": "code",
   "execution_count": 24,
   "metadata": {
    "colab": {
     "base_uri": "https://localhost:8080/"
    },
    "id": "zHRuYpU3iVys",
    "outputId": "47625f85-b4f8-4549-8e11-e9ab023762bf"
   },
   "outputs": [
    {
     "data": {
      "text/plain": [
       "0.7611083041001819"
      ]
     },
     "execution_count": 24,
     "metadata": {},
     "output_type": "execute_result"
    }
   ],
   "source": [
    "# How good is the model\n",
    "model.score(X,Y)\n"
   ]
  },
  {
   "cell_type": "code",
   "execution_count": 25,
   "metadata": {
    "colab": {
     "base_uri": "https://localhost:8080/",
     "height": 282
    },
    "id": "GrYb9djIiVys",
    "outputId": "ff80bfd9-8dec-4dd3-9b6f-39a221f69da7"
   },
   "outputs": [
    {
     "data": {
      "text/plain": [
       "<matplotlib.collections.PathCollection at 0x246ce42dc10>"
      ]
     },
     "execution_count": 25,
     "metadata": {},
     "output_type": "execute_result"
    },
    {
     "data": {
      "image/png": "[encoded data removed]",
      "text/plain": [
       "<Figure size 640x480 with 1 Axes>"
      ]
     },
     "metadata": {},
     "output_type": "display_data"
    }
   ],
   "source": [
    "# Scatter plot of predictions\n",
    "plt.scatter(predictions, Y)"
   ]
  },
  {
   "cell_type": "code",
   "execution_count": 28,
   "metadata": {},
   "outputs": [],
   "source": [
    "test_data = pd.read_csv('https://raw.githubusercontent.com/jasonteno/pset4/main/test.csv')"
   ]
  },
  {
   "cell_type": "code",
   "execution_count": 33,
   "metadata": {
    "id": "rJcvLR0liVyt"
   },
   "outputs": [],
   "source": [
    "test_predict = test_data[['OverallQual', 'GrLivArea', 'GarageCars', 'GarageArea', 'TotalBsmtSF']]"
   ]
  },
  {
   "cell_type": "code",
   "execution_count": 35,
   "metadata": {},
   "outputs": [],
   "source": [
    "test_predict_table = model.predict(test_predict)\n",
    "sales_predictions = test_predict_table.tolist()\n",
    "table = {'Id': test_data.Id, 'SalePrice': sales_predictions}"
   ]
  },
  {
   "cell_type": "code",
   "execution_count": 36,
   "metadata": {},
   "outputs": [
    {
     "data": {
      "text/plain": [
       "{'Id': 0      1001\n",
       " 1      1002\n",
       " 2      1003\n",
       " 3      1004\n",
       " 4      1005\n",
       "        ... \n",
       " 455    1456\n",
       " 456    1457\n",
       " 457    1458\n",
       " 458    1459\n",
       " 459    1460\n",
       " Name: Id, Length: 460, dtype: int64,\n",
       " 'SalePrice': [52774.491020883,\n",
       "  90449.59809517532,\n",
       "  268716.5184323706,\n",
       "  186341.51013627686,\n",
       "  213892.69645909345,\n",
       "  114961.64380708721,\n",
       "  207455.16040201884,\n",
       "  81629.88929447948,\n",
       "  236293.87855315724,\n",
       "  119872.81645152587,\n",
       "  119308.5239484928,\n",
       "  94558.43619763039,\n",
       "  147439.6345400414,\n",
       "  116982.59099059977,\n",
       "  144543.10059090247,\n",
       "  229160.0614972003,\n",
       "  219229.73080921968,\n",
       "  228879.1258891515,\n",
       "  181194.87425732144,\n",
       "  214196.14403230106,\n",
       "  119274.91197953868,\n",
       "  199382.1095901615,\n",
       "  121709.57757135972,\n",
       "  213550.02860262102,\n",
       "  311202.34997902263,\n",
       "  123869.42873171464,\n",
       "  153351.10260369693,\n",
       "  273586.3106834177,\n",
       "  124348.30189887816,\n",
       "  138205.72906897063,\n",
       "  128139.74554847961,\n",
       "  272688.3145409953,\n",
       "  303699.58384461433,\n",
       "  252531.43274308325,\n",
       "  110000.5888287395,\n",
       "  53298.19905148927,\n",
       "  297394.24013716064,\n",
       "  270454.0142180008,\n",
       "  73612.57094130534,\n",
       "  63326.242981228716,\n",
       "  173965.3715591846,\n",
       "  179324.75047554166,\n",
       "  182880.43367556125,\n",
       "  256343.29416703034,\n",
       "  322345.5196816807,\n",
       "  87250.2075376653,\n",
       "  362346.23110596556,\n",
       "  135784.08283958043,\n",
       "  134255.89006948165,\n",
       "  57460.99507994068,\n",
       "  202986.9740434011,\n",
       "  204131.36979163208,\n",
       "  196432.5530244713,\n",
       "  147387.37700776756,\n",
       "  252878.72115001673,\n",
       "  186659.33520966387,\n",
       "  208573.90939679652,\n",
       "  218003.6348610225,\n",
       "  305412.3852059891,\n",
       "  196414.04418417756,\n",
       "  231889.95954843503,\n",
       "  105549.8770493583,\n",
       "  184613.48256043208,\n",
       "  164127.88783043573,\n",
       "  145097.42834727227,\n",
       "  248216.21751217844,\n",
       "  174745.28094167853,\n",
       "  177022.85618686656,\n",
       "  225686.66878546486,\n",
       "  125173.01837286784,\n",
       "  119083.42110470924,\n",
       "  172842.124335293,\n",
       "  129984.3654178066,\n",
       "  165764.47936154957,\n",
       "  219448.7801561563,\n",
       "  189132.24351660183,\n",
       "  149441.26875057173,\n",
       "  122994.8255323414,\n",
       "  144189.15889404883,\n",
       "  114849.0119069652,\n",
       "  177546.95764356843,\n",
       "  118845.57736000806,\n",
       "  216611.13863170988,\n",
       "  161316.7738265134,\n",
       "  168529.74491756354,\n",
       "  156139.67909753355,\n",
       "  81629.88929447948,\n",
       "  274156.072531173,\n",
       "  210024.76421204585,\n",
       "  224348.58682799203,\n",
       "  54934.61575042544,\n",
       "  179051.11542943065,\n",
       "  195714.52574080174,\n",
       "  144969.79906414132,\n",
       "  110853.45833133705,\n",
       "  180342.66778283558,\n",
       "  125728.5934132236,\n",
       "  210163.9737741213,\n",
       "  95331.17005829621,\n",
       "  216288.43189325838,\n",
       "  -4046.0071872119734,\n",
       "  111449.5855092121,\n",
       "  121237.83725278548,\n",
       "  155837.9026716603,\n",
       "  134616.50137432452,\n",
       "  296279.02180239104,\n",
       "  201835.5611107018,\n",
       "  221679.11301346341,\n",
       "  185501.18990192955,\n",
       "  289501.5795280511,\n",
       "  178745.13222100682,\n",
       "  218091.94216703213,\n",
       "  101631.78252902432,\n",
       "  115221.39310071836,\n",
       "  103246.58767184385,\n",
       "  282793.95902244444,\n",
       "  205324.26255944898,\n",
       "  124603.12899088606,\n",
       "  128176.26894964566,\n",
       "  118468.64271788838,\n",
       "  140328.86041822637,\n",
       "  242671.26795793002,\n",
       "  79647.69333058366,\n",
       "  72742.40092433707,\n",
       "  181476.99855939418,\n",
       "  113301.78490277828,\n",
       "  235078.2674199548,\n",
       "  238376.3516849821,\n",
       "  218411.74171767538,\n",
       "  131634.3287285397,\n",
       "  159600.17508250574,\n",
       "  93952.2552696563,\n",
       "  192762.41104712078,\n",
       "  254213.0274704075,\n",
       "  181116.65384810432,\n",
       "  135318.71802127056,\n",
       "  151499.21959560332,\n",
       "  89926.87691666599,\n",
       "  204479.58389971746,\n",
       "  138415.07233713983,\n",
       "  135742.29549654992,\n",
       "  165761.32779230786,\n",
       "  326084.43474215653,\n",
       "  96411.3688169397,\n",
       "  77878.1765588824,\n",
       "  141791.8698508515,\n",
       "  178479.17547471987,\n",
       "  178024.43667533822,\n",
       "  154249.78731235195,\n",
       "  188691.32028296244,\n",
       "  134146.8097643707,\n",
       "  169896.1882888192,\n",
       "  195801.68806136804,\n",
       "  127391.33065124479,\n",
       "  213637.93418061992,\n",
       "  167667.61663659362,\n",
       "  152555.3452417326,\n",
       "  207164.4862601206,\n",
       "  269280.40257942805,\n",
       "  194530.25030069603,\n",
       "  172322.59748055847,\n",
       "  202850.9416617504,\n",
       "  124603.12899088606,\n",
       "  126193.78001865972,\n",
       "  166043.2774910849,\n",
       "  221920.17942123572,\n",
       "  277115.79137914954,\n",
       "  185896.37143601492,\n",
       "  212169.8146665703,\n",
       "  420004.7654755111,\n",
       "  148638.31122770614,\n",
       "  176149.82722038214,\n",
       "  182540.703696662,\n",
       "  209379.55411165676,\n",
       "  214320.00583534167,\n",
       "  311615.9919580518,\n",
       "  107620.00482839349,\n",
       "  142151.8161916499,\n",
       "  120761.13193947976,\n",
       "  70071.69176094612,\n",
       "  259640.26663485196,\n",
       "  252668.59523206213,\n",
       "  473285.8570856007,\n",
       "  147050.09271126203,\n",
       "  200587.61177223115,\n",
       "  120427.99864342713,\n",
       "  115968.62384889039,\n",
       "  271410.9460308183,\n",
       "  205360.18720288356,\n",
       "  216150.9231627666,\n",
       "  189774.3892015045,\n",
       "  217314.74483569086,\n",
       "  126793.73746684773,\n",
       "  172775.34200380344,\n",
       "  144598.22482604222,\n",
       "  167636.5744017565,\n",
       "  233483.05210454672,\n",
       "  187080.4736025283,\n",
       "  198417.99200850286,\n",
       "  128196.81537879337,\n",
       "  81205.71043879676,\n",
       "  212766.96159947212,\n",
       "  126321.58856356444,\n",
       "  228449.8887954102,\n",
       "  138639.6188156274,\n",
       "  289576.0672160699,\n",
       "  97742.2645761538,\n",
       "  211220.57124480742,\n",
       "  144367.67873493102,\n",
       "  255229.85140643714,\n",
       "  196639.35234603882,\n",
       "  224581.47565348892,\n",
       "  65662.8930852098,\n",
       "  80193.79577745797,\n",
       "  113226.66181115576,\n",
       "  108928.0096551229,\n",
       "  167309.2790418157,\n",
       "  229090.6019487599,\n",
       "  36823.36986630477,\n",
       "  119138.19795413024,\n",
       "  108666.45531440209,\n",
       "  124067.45076951172,\n",
       "  179149.25188476747,\n",
       "  221383.87818506514,\n",
       "  194497.82760231735,\n",
       "  131931.9392994753,\n",
       "  213631.84157703284,\n",
       "  128145.18785700941,\n",
       "  306094.3935973814,\n",
       "  142769.43406276443,\n",
       "  220151.21744099542,\n",
       "  146245.81073035987,\n",
       "  87975.5249552663,\n",
       "  148584.03952526566,\n",
       "  137773.56990930598,\n",
       "  141159.86314431086,\n",
       "  201382.29590962981,\n",
       "  217912.9376643355,\n",
       "  167801.95445207416,\n",
       "  240972.98009474334,\n",
       "  212783.78392345217,\n",
       "  256146.29139790012,\n",
       "  190869.76765708314,\n",
       "  355009.3452429755,\n",
       "  219688.77885141308,\n",
       "  183133.61376690053,\n",
       "  200235.84741393142,\n",
       "  180352.46718141527,\n",
       "  195086.73662231388,\n",
       "  110773.08403928523,\n",
       "  266553.06289513817,\n",
       "  211621.84827231165,\n",
       "  105431.24322378598,\n",
       "  240150.8868912758,\n",
       "  200856.372797347,\n",
       "  156712.0537445688,\n",
       "  283599.8945217293,\n",
       "  85499.05245086964,\n",
       "  182153.48197606645,\n",
       "  160705.03806763052,\n",
       "  182874.58242488556,\n",
       "  120128.0521282428,\n",
       "  131076.8064243225,\n",
       "  187513.89752754275,\n",
       "  185468.72685729896,\n",
       "  191740.7835741249,\n",
       "  200991.52627542542,\n",
       "  324631.2980676291,\n",
       "  330254.3414835627,\n",
       "  135683.64455332374,\n",
       "  216568.79993945485,\n",
       "  194167.87963666135,\n",
       "  110433.943176512,\n",
       "  156262.21326243223,\n",
       "  135154.0043079366,\n",
       "  171342.3239403432,\n",
       "  166374.9109241546,\n",
       "  211149.33090619373,\n",
       "  256613.63812716943,\n",
       "  106741.15964521223,\n",
       "  225662.9983219085,\n",
       "  205707.68267833014,\n",
       "  136405.36990636968,\n",
       "  154178.12078806388,\n",
       "  199327.5445997092,\n",
       "  150679.11235688717,\n",
       "  182926.2685282509,\n",
       "  177769.12865157335,\n",
       "  250158.63761443083,\n",
       "  270052.7720298128,\n",
       "  145012.26732186155,\n",
       "  117056.7088279629,\n",
       "  179921.68648249315,\n",
       "  206172.74071915567,\n",
       "  124387.9839647898,\n",
       "  119425.0770837669,\n",
       "  143618.38946459387,\n",
       "  146663.68542761562,\n",
       "  638976.9533333415,\n",
       "  134624.72064217404,\n",
       "  224586.2047356837,\n",
       "  152966.0192483426,\n",
       "  299344.30640767794,\n",
       "  248480.43147932514,\n",
       "  210168.4272409452,\n",
       "  284075.43399173906,\n",
       "  208709.96466197076,\n",
       "  132494.47141744493,\n",
       "  137223.42554182437,\n",
       "  179261.16820875902,\n",
       "  251339.82751485918,\n",
       "  202068.85397282892,\n",
       "  305140.0907062802,\n",
       "  332358.22474083875,\n",
       "  87660.88350041566,\n",
       "  207455.24191904513,\n",
       "  273384.7574791934,\n",
       "  207343.34074574008,\n",
       "  282711.8049659424,\n",
       "  84466.49100303618,\n",
       "  192979.89149831023,\n",
       "  23943.56358206505,\n",
       "  215950.99004942822,\n",
       "  40803.44160311966,\n",
       "  286916.24225877377,\n",
       "  56638.42875080119,\n",
       "  24067.441450959523,\n",
       "  100877.91324478496,\n",
       "  254908.7548114458,\n",
       "  206835.52241394398,\n",
       "  269809.51400213083,\n",
       "  130018.21094898536,\n",
       "  77654.10726046065,\n",
       "  125701.92375759015,\n",
       "  141725.98739370177,\n",
       "  185638.98199152332,\n",
       "  184120.24033369464,\n",
       "  48723.15702048279,\n",
       "  217135.18964161552,\n",
       "  104977.78499347696,\n",
       "  128439.09296405045,\n",
       "  167303.3495363271,\n",
       "  268984.92935327336,\n",
       "  192658.1265971534,\n",
       "  191956.91752679265,\n",
       "  89062.78607970834,\n",
       "  251325.30363066235,\n",
       "  280934.66778919625,\n",
       "  218700.04226348348,\n",
       "  218480.46873739557,\n",
       "  252620.1116299761,\n",
       "  185063.68553573787,\n",
       "  157832.57968594556,\n",
       "  355924.06906231516,\n",
       "  240200.28777739007,\n",
       "  208825.41577500894,\n",
       "  105836.26661057517,\n",
       "  139599.70152894667,\n",
       "  174509.4127183242,\n",
       "  322626.3257631444,\n",
       "  196054.84303674437,\n",
       "  220405.35771085354,\n",
       "  117651.97851334466,\n",
       "  162661.46152272154,\n",
       "  177001.5337026492,\n",
       "  208372.18042486292,\n",
       "  214205.8784786561,\n",
       "  130135.82786146589,\n",
       "  144189.15889404883,\n",
       "  255532.38035036638,\n",
       "  104569.78156060318,\n",
       "  170310.47416367414,\n",
       "  235444.22588562497,\n",
       "  397025.15435549035,\n",
       "  247150.43858409292,\n",
       "  266738.37046930345,\n",
       "  120039.98558897414,\n",
       "  163231.80861473727,\n",
       "  121777.06511303046,\n",
       "  130353.61845108168,\n",
       "  56200.03160081571,\n",
       "  215206.3760771779,\n",
       "  204004.68605579415,\n",
       "  147975.3410336973,\n",
       "  136765.53103935305,\n",
       "  91528.56308293573,\n",
       "  275217.69083556754,\n",
       "  198018.72470136153,\n",
       "  304438.4572347511,\n",
       "  157750.11456059993,\n",
       "  221922.92782251255,\n",
       "  198031.70060926708,\n",
       "  106610.23462258928,\n",
       "  185225.18962273028,\n",
       "  231843.12135890298,\n",
       "  291651.5400961053,\n",
       "  158021.92370657795,\n",
       "  134919.42836470596,\n",
       "  162151.5456007437,\n",
       "  164644.64569328612,\n",
       "  140510.79000011872,\n",
       "  177311.34913205184,\n",
       "  205992.3306321452,\n",
       "  259725.50909768636,\n",
       "  107721.59433685566,\n",
       "  252207.51144194652,\n",
       "  113995.16618598212,\n",
       "  83116.78620193887,\n",
       "  115003.31593302308,\n",
       "  224574.40581075105,\n",
       "  219292.3097340455,\n",
       "  164527.55464183402,\n",
       "  78912.29101898914,\n",
       "  271425.76144215127,\n",
       "  188205.79015393884,\n",
       "  236122.6281215696,\n",
       "  162469.89112788523,\n",
       "  303501.7128059281,\n",
       "  127317.43138774051,\n",
       "  222785.07519207898,\n",
       "  171634.86767576847,\n",
       "  161515.0796864472,\n",
       "  144189.15889404883,\n",
       "  200990.93539515758,\n",
       "  135142.16109321092,\n",
       "  177085.87385345277,\n",
       "  239433.53345477828,\n",
       "  137991.3584676831,\n",
       "  99040.52063163943,\n",
       "  190488.02898150173,\n",
       "  160969.94228969322,\n",
       "  152985.0295693079,\n",
       "  78272.8320263827,\n",
       "  190298.88084105807,\n",
       "  143014.23756469382,\n",
       "  190989.22833745382,\n",
       "  99999.10726845919,\n",
       "  295371.1816014226,\n",
       "  172417.5292409082,\n",
       "  200085.8382968993,\n",
       "  217721.71021569814,\n",
       "  144189.15889404883,\n",
       "  317869.352160856,\n",
       "  133730.54894952985,\n",
       "  215463.99448220202,\n",
       "  128437.26111246287,\n",
       "  130287.51108748824,\n",
       "  261827.37616629354,\n",
       "  95267.82149554617,\n",
       "  67516.78463635987,\n",
       "  128588.02343383656,\n",
       "  269140.5345343505,\n",
       "  123028.67801552432,\n",
       "  106708.90679618888,\n",
       "  196145.54073518966,\n",
       "  184413.4621174597,\n",
       "  222970.48740605326,\n",
       "  227633.85736226497,\n",
       "  120600.70398540076,\n",
       "  134896.32523381503]}"
      ]
     },
     "execution_count": 36,
     "metadata": {},
     "output_type": "execute_result"
    }
   ],
   "source": [
    "table"
   ]
  },
  {
   "cell_type": "code",
   "execution_count": 39,
   "metadata": {
    "id": "ZYu9PNWUiVyt"
   },
   "outputs": [],
   "source": [
    "test_df = pd.DataFrame(table)\n",
    "test_df.to_csv(\"predictions.csv\", index=False)"
   ]
  },
  {
   "cell_type": "code",
   "execution_count": null,
   "metadata": {
    "id": "hC1HK-MOiVyt"
   },
   "outputs": [],
   "source": []
  },
  {
   "cell_type": "code",
   "execution_count": null,
   "metadata": {
    "id": "e--5D8-NiVyt"
   },
   "outputs": [],
   "source": []
  },
  {
   "cell_type": "code",
   "execution_count": null,
   "metadata": {
    "id": "miDMNwIUiVyt"
   },
   "outputs": [],
   "source": []
  }
 ],
 "metadata": {
  "colab": {
   "collapsed_sections": [],
   "include_colab_link": true,
   "provenance": []
  },
  "kernelspec": {
   "display_name": "Python 3 (ipykernel)",
   "language": "python",
   "name": "python3"
  },
  "language_info": {
   "codemirror_mode": {
    "name": "ipython",
    "version": 3
   },
   "file_extension": ".py",
   "mimetype": "text/x-python",
   "name": "python",
   "nbconvert_exporter": "python",
   "pygments_lexer": "ipython3",
   "version": "3.9.13"
  }
 },
 "nbformat": 4,
 "nbformat_minor": 1
}
